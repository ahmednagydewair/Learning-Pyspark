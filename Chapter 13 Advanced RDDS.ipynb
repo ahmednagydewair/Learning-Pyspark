{
 "cells": [
  {
   "cell_type": "code",
   "execution_count": 1,
   "metadata": {},
   "outputs": [],
   "source": [
    "# this chapter summarize topics . - aggregations and key-value RDDs - custom partitioning - RDD joins"
   ]
  },
  {
   "cell_type": "code",
   "execution_count": 2,
   "metadata": {},
   "outputs": [],
   "source": [
    "mycollection = \"spark the definitive guide : the big data processing made simple\".split()"
   ]
  },
  {
   "cell_type": "code",
   "execution_count": 3,
   "metadata": {},
   "outputs": [
    {
     "data": {
      "text/plain": [
       "['spark',\n",
       " 'the',\n",
       " 'definitive',\n",
       " 'guide',\n",
       " ':',\n",
       " 'the',\n",
       " 'big',\n",
       " 'data',\n",
       " 'processing',\n",
       " 'made',\n",
       " 'simple']"
      ]
     },
     "execution_count": 3,
     "metadata": {},
     "output_type": "execute_result"
    }
   ],
   "source": [
    "mycollection"
   ]
  },
  {
   "cell_type": "code",
   "execution_count": 4,
   "metadata": {},
   "outputs": [],
   "source": [
    "words = sc.parallelize(mycollection,2)"
   ]
  },
  {
   "cell_type": "code",
   "execution_count": 8,
   "metadata": {},
   "outputs": [],
   "source": [
    "wordsmap = words.map(lambda word : (word.upper(),1))\n",
    "# map : maps every word in the list , to it's upper version and #1"
   ]
  },
  {
   "cell_type": "code",
   "execution_count": 9,
   "metadata": {},
   "outputs": [
    {
     "data": {
      "text/plain": [
       "[('SPARK', 1), ('THE', 1), ('DEFINITIVE', 1), ('GUIDE', 1), (':', 1)]"
      ]
     },
     "execution_count": 9,
     "metadata": {},
     "output_type": "execute_result"
    }
   ],
   "source": [
    "wordsmap.take(5)"
   ]
  },
  {
   "cell_type": "code",
   "execution_count": 11,
   "metadata": {},
   "outputs": [
    {
     "data": {
      "text/plain": [
       "[('s', 'spark'), ('t', 'the'), ('d', 'definitive'), ('g', 'guide'), (':', ':')]"
      ]
     },
     "execution_count": 11,
     "metadata": {},
     "output_type": "execute_result"
    }
   ],
   "source": [
    "keyword = words.keyBy(lambda word : word.lower()[0])\n",
    "keyword.take(5)"
   ]
  },
  {
   "cell_type": "code",
   "execution_count": 13,
   "metadata": {},
   "outputs": [
    {
     "data": {
      "text/plain": [
       "[('s', 'SPARK'),\n",
       " ('t', 'THE'),\n",
       " ('d', 'DEFINITIVE'),\n",
       " ('g', 'GUIDE'),\n",
       " (':', ':'),\n",
       " ('t', 'THE'),\n",
       " ('b', 'BIG'),\n",
       " ('d', 'DATA'),\n",
       " ('p', 'PROCESSING'),\n",
       " ('m', 'MADE'),\n",
       " ('s', 'SIMPLE')]"
      ]
     },
     "execution_count": 13,
     "metadata": {},
     "output_type": "execute_result"
    }
   ],
   "source": [
    "keyword.mapValues(lambda word : word.upper()).collect()"
   ]
  },
  {
   "cell_type": "code",
   "execution_count": 15,
   "metadata": {},
   "outputs": [],
   "source": [
    "#keyword.flatMapValues(lambda word : word.upper()).collect()"
   ]
  },
  {
   "cell_type": "code",
   "execution_count": 17,
   "metadata": {},
   "outputs": [
    {
     "name": "stdout",
     "output_type": "stream",
     "text": [
      "['s', 't', 'd', 'g', ':', 't', 'b', 'd', 'p', 'm', 's']\n",
      "['spark', 'the', 'definitive', 'guide', ':', 'the', 'big', 'data', 'processing', 'made', 'simple']\n"
     ]
    }
   ],
   "source": [
    "#extract keys and values from rdd\n",
    "print (keyword.keys().collect())\n",
    "print (keyword.values().collect())"
   ]
  },
  {
   "cell_type": "code",
   "execution_count": 19,
   "metadata": {},
   "outputs": [
    {
     "data": {
      "text/plain": [
       "['spark', 'simple']"
      ]
     },
     "execution_count": 19,
     "metadata": {},
     "output_type": "execute_result"
    }
   ],
   "source": [
    "# lookup the result for particular keys\n",
    "keyword.lookup('s')"
   ]
  },
  {
   "cell_type": "code",
   "execution_count": 20,
   "metadata": {},
   "outputs": [],
   "source": [
    "#samplebykey  : to sample rdd by set of keys,\n",
    "# we can do it approximation or exactly, with replacement or without replacement"
   ]
  },
  {
   "cell_type": "code",
   "execution_count": 45,
   "metadata": {},
   "outputs": [
    {
     "data": {
      "text/plain": [
       "[('d', 'definitive'), (':', ':'), ('s', 'simple'), ('s', 'simple')]"
      ]
     },
     "execution_count": 45,
     "metadata": {},
     "output_type": "execute_result"
    }
   ],
   "source": [
    "import random \n",
    "distinctchars = words.flatMap(lambda word : list(word.lower())).distinct().collect()\n",
    "sampleMap = dict(map(lambda c: (c, random.random()), distinctchars))\n",
    "words.map(lambda word: (word.lower()[0], word)).sampleByKey(True, sampleMap, 6).collect()"
   ]
  },
  {
   "cell_type": "markdown",
   "metadata": {},
   "source": [
    "# aggregations "
   ]
  },
  {
   "cell_type": "code",
   "execution_count": 33,
   "metadata": {},
   "outputs": [],
   "source": [
    "chars = words.flatMap(lambda word:word.lower())\n",
    "# return list of chars\n",
    "kvcharacters = chars.map(lambda letter : (letter,1))\n",
    "# return key value for each letter like ('s', 1)"
   ]
  },
  {
   "cell_type": "code",
   "execution_count": 34,
   "metadata": {},
   "outputs": [],
   "source": [
    "def maxFun(left, right):\n",
    "    return max(left, right)\n",
    "\n",
    "def addFun(left, right):\n",
    "    return left+right\n",
    "nums = sc.parallelize(range(1,31) , 5)"
   ]
  },
  {
   "cell_type": "code",
   "execution_count": 37,
   "metadata": {},
   "outputs": [
    {
     "data": {
      "text/plain": [
       "defaultdict(int,\n",
       "            {'s': 4,\n",
       "             'p': 3,\n",
       "             'a': 4,\n",
       "             'r': 2,\n",
       "             'k': 1,\n",
       "             't': 4,\n",
       "             'h': 2,\n",
       "             'e': 8,\n",
       "             'd': 4,\n",
       "             'f': 1,\n",
       "             'i': 7,\n",
       "             'n': 2,\n",
       "             'v': 1,\n",
       "             'g': 3,\n",
       "             'u': 1,\n",
       "             ':': 1,\n",
       "             'b': 1,\n",
       "             'o': 1,\n",
       "             'c': 1,\n",
       "             'm': 2,\n",
       "             'l': 1})"
      ]
     },
     "execution_count": 37,
     "metadata": {},
     "output_type": "execute_result"
    }
   ],
   "source": [
    "kvcharacters.countByKey()\n",
    "# count the frequence of single items ."
   ]
  },
  {
   "cell_type": "code",
   "execution_count": 38,
   "metadata": {},
   "outputs": [],
   "source": [
    "# difference between groupByKey and reduceByKey\n",
    "#groupByKey : each executors hold all values for a given key in memory, before applying the function to them \n",
    "# this can lead to outofmemoryerrors , it affects with large datasets.it can happen\n",
    "#there is a good approach \"reduceByKey\""
   ]
  },
  {
   "cell_type": "code",
   "execution_count": 39,
   "metadata": {},
   "outputs": [],
   "source": [
    "# to make simple count , must use flatmap, and then use map to map each letter with number,\n",
    "#then perform reduceByKey with summation function.\n",
    "# reduce happen within the partition and doesnot need to put everything in memory.there is no incurred during the operation"
   ]
  },
  {
   "cell_type": "code",
   "execution_count": 41,
   "metadata": {},
   "outputs": [
    {
     "data": {
      "text/plain": [
       "[('s', 4),\n",
       " ('p', 3),\n",
       " ('r', 2),\n",
       " ('h', 2),\n",
       " ('d', 4),\n",
       " ('i', 7),\n",
       " ('g', 3),\n",
       " ('b', 1),\n",
       " ('c', 1),\n",
       " ('l', 1),\n",
       " ('a', 4),\n",
       " ('k', 1),\n",
       " ('t', 4),\n",
       " ('e', 8),\n",
       " ('f', 1),\n",
       " ('n', 2),\n",
       " ('v', 1),\n",
       " ('u', 1),\n",
       " (':', 1),\n",
       " ('o', 1),\n",
       " ('m', 2)]"
      ]
     },
     "execution_count": 41,
     "metadata": {},
     "output_type": "execute_result"
    }
   ],
   "source": [
    "kvcharacters.reduceByKey(addFun).collect()\n",
    "#kvcharacters.reduceByKey(lambda x,y:x+y).collect()"
   ]
  },
  {
   "cell_type": "code",
   "execution_count": 42,
   "metadata": {},
   "outputs": [],
   "source": [
    "# look at [aggregate , aggregateByKey , combineByKey ,foldByKey, Cogroups]"
   ]
  },
  {
   "cell_type": "markdown",
   "metadata": {},
   "source": [
    "## joins"
   ]
  },
  {
   "cell_type": "code",
   "execution_count": 52,
   "metadata": {},
   "outputs": [
    {
     "data": {
      "text/plain": [
       "[('s', 0.8483401344130305),\n",
       " ('p', 0.6175334203806567),\n",
       " ('r', 0.44253735737429534),\n",
       " ('h', 0.004711285990537606),\n",
       " ('d', 0.17620064565192106),\n",
       " ('i', 0.42354662330046744),\n",
       " ('g', 0.5955476693020821),\n",
       " ('b', 0.31968779942779224),\n",
       " ('c', 0.27071645876217754),\n",
       " ('l', 0.5239463007417778),\n",
       " ('a', 0.5651157182361087),\n",
       " ('k', 0.4748421103620156),\n",
       " ('t', 0.3088462283026707),\n",
       " ('e', 0.7529273129256479),\n",
       " ('f', 0.27563749864730513),\n",
       " ('n', 0.23461206369306986),\n",
       " ('v', 0.26096463617434684),\n",
       " ('u', 0.3650090191566),\n",
       " (':', 0.7256531856697708),\n",
       " ('o', 0.8716548735486849),\n",
       " ('m', 0.4059385600881832)]"
      ]
     },
     "execution_count": 52,
     "metadata": {},
     "output_type": "execute_result"
    }
   ],
   "source": [
    "distinctchars = words.flatMap(lambda word : list(word.lower())).distinct()\n",
    "distinctchars.map(lambda c:(c,random.random())).collect()\n"
   ]
  },
  {
   "cell_type": "code",
   "execution_count": 54,
   "metadata": {},
   "outputs": [
    {
     "name": "stdout",
     "output_type": "stream",
     "text": [
      "54\n",
      "54\n"
     ]
    }
   ],
   "source": [
    "kededchars = distinctchars.map(lambda c:(c,random.random()))\n",
    "outputpartitions = 10\n",
    "print (kvcharacters.join(kededchars).count() )\n",
    "print (kvcharacters.join(kededchars, outputpartitions).count())"
   ]
  },
  {
   "cell_type": "code",
   "execution_count": 57,
   "metadata": {},
   "outputs": [
    {
     "data": {
      "text/plain": [
       "[('spark', 0),\n",
       " ('the', 1),\n",
       " ('definitive', 2),\n",
       " ('guide', 3),\n",
       " (':', 4),\n",
       " ('the', 5),\n",
       " ('big', 6),\n",
       " ('data', 7),\n",
       " ('processing', 8),\n",
       " ('made', 9),\n",
       " ('simple', 10)]"
      ]
     },
     "execution_count": 57,
     "metadata": {},
     "output_type": "execute_result"
    }
   ],
   "source": [
    "#zips : add two rdds together\n",
    "myrange = sc.parallelize(range(11) , 2)\n",
    "words.zip(myrange).collect()"
   ]
  },
  {
   "cell_type": "code",
   "execution_count": 56,
   "metadata": {},
   "outputs": [
    {
     "data": {
      "text/plain": [
       "11"
      ]
     },
     "execution_count": 56,
     "metadata": {},
     "output_type": "execute_result"
    }
   ],
   "source": [
    "words.count()"
   ]
  },
  {
   "cell_type": "code",
   "execution_count": null,
   "metadata": {},
   "outputs": [],
   "source": []
  }
 ],
 "metadata": {
  "kernelspec": {
   "display_name": "Python 3",
   "language": "python",
   "name": "python3"
  },
  "language_info": {
   "codemirror_mode": {
    "name": "ipython",
    "version": 3
   },
   "file_extension": ".py",
   "mimetype": "text/x-python",
   "name": "python",
   "nbconvert_exporter": "python",
   "pygments_lexer": "ipython3",
   "version": "3.7.4"
  }
 },
 "nbformat": 4,
 "nbformat_minor": 2
}
